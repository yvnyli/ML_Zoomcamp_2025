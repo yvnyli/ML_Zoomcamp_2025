{
 "cells": [
  {
   "cell_type": "markdown",
   "id": "c56c37e9-6706-45af-a72b-5f82903c7518",
   "metadata": {},
   "source": [
    "1. Clean feature names: all lowercase, nonalphanumerical replaced with underscore\n",
    "2. Find all numerical features: try convert to number\n",
    "3. Check right skew and do log1p\n",
    "4. Fill NA in numericals with median\n",
    "5. Clean categorical features: all lowercase, nonalphanumerical replaced with underscore; check if some categories need to be merged (e.g. ny and new_york)\n",
    "6. Fill NA in categoricals with mode\n",
    "7. Remove duplicates\n"
   ]
  },
  {
   "cell_type": "code",
   "execution_count": null,
   "id": "d14f1fe3-ac17-407e-b829-dda8fb514bf4",
   "metadata": {},
   "outputs": [],
   "source": []
  }
 ],
 "metadata": {
  "kernelspec": {
   "display_name": "Python [conda env:env-ml-zoomcamp-2025]",
   "language": "python",
   "name": "conda-env-env-ml-zoomcamp-2025-py"
  },
  "language_info": {
   "codemirror_mode": {
    "name": "ipython",
    "version": 3
   },
   "file_extension": ".py",
   "mimetype": "text/x-python",
   "name": "python",
   "nbconvert_exporter": "python",
   "pygments_lexer": "ipython3",
   "version": "3.11.13"
  }
 },
 "nbformat": 4,
 "nbformat_minor": 5
}
