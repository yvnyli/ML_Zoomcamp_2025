{
 "cells": [
  {
   "cell_type": "code",
   "execution_count": 1,
   "id": "2ddddf48-fda7-4df1-8eb2-5c9e6bd34ba4",
   "metadata": {},
   "outputs": [],
   "source": [
    "import pandas as pd\n",
    "import numpy as np\n",
    "import seaborn as sns\n"
   ]
  },
  {
   "cell_type": "code",
   "execution_count": 2,
   "id": "a647fec3-5dd7-401b-8610-2d707617858c",
   "metadata": {},
   "outputs": [],
   "source": [
    "df = pd.read_csv(\"D:\\Github\\ML_Zoomcamp_2025\\hw1_car_fuel_efficiency.csv\")"
   ]
  },
  {
   "cell_type": "code",
   "execution_count": 3,
   "id": "dbfd513f-150c-4fb5-8ef7-3266c774a46f",
   "metadata": {},
   "outputs": [
    {
     "data": {
      "text/plain": [
       "<bound method NDFrame.head of       engine_displacement  num_cylinders  horsepower  vehicle_weight  \\\n",
       "0                     170            3.0       159.0     3413.433759   \n",
       "1                     130            5.0        97.0     3149.664934   \n",
       "2                     170            NaN        78.0     3079.038997   \n",
       "3                     220            4.0         NaN     2542.392402   \n",
       "4                     210            1.0       140.0     3460.870990   \n",
       "...                   ...            ...         ...             ...   \n",
       "9699                  140            5.0       164.0     2981.107371   \n",
       "9700                  180            NaN       154.0     2439.525729   \n",
       "9701                  220            2.0       138.0     2583.471318   \n",
       "9702                  230            4.0       177.0     2905.527390   \n",
       "9703                  270            3.0       140.0     2908.043477   \n",
       "\n",
       "      acceleration  model_year  origin fuel_type         drivetrain  \\\n",
       "0             17.7        2003  Europe  Gasoline    All-wheel drive   \n",
       "1             17.8        2007     USA  Gasoline  Front-wheel drive   \n",
       "2             15.1        2018  Europe  Gasoline  Front-wheel drive   \n",
       "3             20.2        2009     USA    Diesel    All-wheel drive   \n",
       "4             14.4        2009  Europe  Gasoline    All-wheel drive   \n",
       "...            ...         ...     ...       ...                ...   \n",
       "9699          17.3        2013  Europe    Diesel  Front-wheel drive   \n",
       "9700          15.0        2004     USA  Gasoline    All-wheel drive   \n",
       "9701          15.1        2008     USA    Diesel    All-wheel drive   \n",
       "9702          19.4        2011     USA    Diesel  Front-wheel drive   \n",
       "9703          14.7        2005    Asia    Diesel    All-wheel drive   \n",
       "\n",
       "      num_doors  fuel_efficiency_mpg  \n",
       "0           0.0            13.231729  \n",
       "1           0.0            13.688217  \n",
       "2           0.0            14.246341  \n",
       "3           2.0            16.912736  \n",
       "4           2.0            12.488369  \n",
       "...         ...                  ...  \n",
       "9699        NaN            15.101802  \n",
       "9700        0.0            17.962326  \n",
       "9701       -1.0            17.186587  \n",
       "9702        1.0            15.331551  \n",
       "9703       -1.0            14.884467  \n",
       "\n",
       "[9704 rows x 11 columns]>"
      ]
     },
     "execution_count": 3,
     "metadata": {},
     "output_type": "execute_result"
    }
   ],
   "source": [
    "df.head"
   ]
  },
  {
   "cell_type": "code",
   "execution_count": 5,
   "id": "fffc3b55-3b2e-478b-905b-1566a32a5ea9",
   "metadata": {},
   "outputs": [
    {
     "name": "stdout",
     "output_type": "stream",
     "text": [
      "Index(['engine_displacement', 'num_cylinders', 'horsepower', 'vehicle_weight',\n",
      "       'acceleration', 'model_year', 'origin', 'fuel_type', 'drivetrain',\n",
      "       'num_doors', 'fuel_efficiency_mpg'],\n",
      "      dtype='object')\n"
     ]
    }
   ],
   "source": [
    "print(df.columns)"
   ]
  },
  {
   "cell_type": "code",
   "execution_count": 8,
   "id": "20ad82e7-15a6-4c4e-b13f-f936bb43cf95",
   "metadata": {},
   "outputs": [],
   "source": [
    "df = df.drop(columns=['num_cylinders','acceleration', \n",
    "                'origin', 'fuel_type', 'drivetrain',\n",
    "                'num_doors'])\n"
   ]
  },
  {
   "cell_type": "code",
   "execution_count": 9,
   "id": "ea049223-91d3-4c00-8710-01f7bd00794b",
   "metadata": {},
   "outputs": [
    {
     "name": "stdout",
     "output_type": "stream",
     "text": [
      "Index(['engine_displacement', 'horsepower', 'vehicle_weight', 'model_year',\n",
      "       'fuel_efficiency_mpg'],\n",
      "      dtype='object')\n"
     ]
    }
   ],
   "source": [
    "print(df.columns)"
   ]
  },
  {
   "cell_type": "code",
   "execution_count": 14,
   "id": "eca25a84-b0a4-4f8d-a447-8f6da757557f",
   "metadata": {},
   "outputs": [
    {
     "data": {
      "text/plain": [
       "25.96722204888372"
      ]
     },
     "execution_count": 14,
     "metadata": {},
     "output_type": "execute_result"
    }
   ],
   "source": [
    "np.max(df.fuel_efficiency_mpg)"
   ]
  },
  {
   "cell_type": "code",
   "execution_count": 13,
   "id": "ec1d2d8b-ea09-490f-9f2d-a4cb55f0da82",
   "metadata": {},
   "outputs": [
    {
     "data": {
      "text/plain": [
       "<Axes: xlabel='fuel_efficiency_mpg', ylabel='Count'>"
      ]
     },
     "execution_count": 13,
     "metadata": {},
     "output_type": "execute_result"
    },
    {
     "data": {
      "image/png": "[encoded data removed]",
      "text/plain": [
       "<Figure size 640x480 with 1 Axes>"
      ]
     },
     "metadata": {},
     "output_type": "display_data"
    }
   ],
   "source": [
    "sns.histplot(df.iloc[:,4])"
   ]
  },
  {
   "cell_type": "code",
   "execution_count": 16,
   "id": "fc8dc505-5d19-4292-ad9a-90b96cb4ade5",
   "metadata": {},
   "outputs": [
    {
     "data": {
      "text/plain": [
       "engine_displacement      0\n",
       "horsepower             708\n",
       "vehicle_weight           0\n",
       "model_year               0\n",
       "fuel_efficiency_mpg      0\n",
       "dtype: int64"
      ]
     },
     "execution_count": 16,
     "metadata": {},
     "output_type": "execute_result"
    }
   ],
   "source": [
    "df.isnull().sum(axis=0)"
   ]
  },
  {
   "cell_type": "code",
   "execution_count": 18,
   "id": "4a77534b-8a93-463b-851a-fcdd80736960",
   "metadata": {},
   "outputs": [
    {
     "data": {
      "text/plain": [
       "engine_displacement     200.000000\n",
       "horsepower              149.000000\n",
       "vehicle_weight         2993.226296\n",
       "model_year             2012.000000\n",
       "fuel_efficiency_mpg      15.006037\n",
       "dtype: float64"
      ]
     },
     "execution_count": 18,
     "metadata": {},
     "output_type": "execute_result"
    }
   ],
   "source": [
    "df.median(axis=0)"
   ]
  },
  {
   "cell_type": "code",
   "execution_count": 95,
   "id": "27a813fe-25e3-4579-9ff0-d85aa424dbb3",
   "metadata": {},
   "outputs": [],
   "source": [
    "np.random.seed(42)\n",
    "\n",
    "n = len(df)\n",
    "\n",
    "n_val = int(0.2 * n)\n",
    "n_test = int(0.2 * n)\n",
    "n_train = n - (n_val + n_test)\n",
    "\n",
    "idx = np.arange(n)\n",
    "np.random.shuffle(idx)\n",
    "\n",
    "df_shuffled = df.iloc[idx]\n",
    "\n",
    "df_train = df_shuffled.iloc[:n_train].copy()\n",
    "df_val = df_shuffled.iloc[n_train:n_train+n_val].copy()\n",
    "df_test = df_shuffled.iloc[n_train+n_val:].copy()"
   ]
  },
  {
   "cell_type": "code",
   "execution_count": 96,
   "id": "897358c9-f42e-484f-945d-d1f0bb7fabab",
   "metadata": {},
   "outputs": [],
   "source": [
    "y_train = df_train.fuel_efficiency_mpg.values\n",
    "y_val = df_val.fuel_efficiency_mpg.values\n",
    "y_test = df_test.fuel_efficiency_mpg.values\n",
    "\n",
    "del df_train['fuel_efficiency_mpg']\n",
    "del df_val['fuel_efficiency_mpg']\n",
    "del df_test['fuel_efficiency_mpg']"
   ]
  },
  {
   "cell_type": "code",
   "execution_count": 97,
   "id": "e4f8beea-9a2b-477e-a1f1-65720ea490eb",
   "metadata": {},
   "outputs": [],
   "source": [
    "def train_linear_regression(X, y):\n",
    "    ones = np.ones(X.shape[0])\n",
    "    X = np.column_stack([ones, X])\n",
    "\n",
    "    XTX = X.T.dot(X)\n",
    "    XTX_inv = np.linalg.inv(XTX)\n",
    "    w = XTX_inv.dot(X.T).dot(y)\n",
    "    \n",
    "    return w[0], w[1:]\n",
    "\n"
   ]
  },
  {
   "cell_type": "code",
   "execution_count": 98,
   "id": "938ad034-9cf8-4628-91c7-ceec4c0f6e1f",
   "metadata": {},
   "outputs": [],
   "source": [
    "base = ['engine_displacement','horsepower','vehicle_weight','model_year']"
   ]
  },
  {
   "cell_type": "code",
   "execution_count": 99,
   "id": "ed00f47b-1b00-4f1e-8bd7-7587a0396438",
   "metadata": {},
   "outputs": [],
   "source": [
    "\n",
    "def prepare_X_zero(df):\n",
    "    df_num = df[base]\n",
    "    df_num = df_num.fillna(0)\n",
    "    X = df_num.values\n",
    "    return X"
   ]
  },
  {
   "cell_type": "code",
   "execution_count": 100,
   "id": "ba27bcef-a024-43a0-ac73-586da7fa09c0",
   "metadata": {},
   "outputs": [],
   "source": [
    "\n",
    "def prepare_X_mean(df):\n",
    "    df_num = df[base]\n",
    "    df_num = df_num.fillna(df_num.mean())\n",
    "    X = df_num.values\n",
    "    return X"
   ]
  },
  {
   "cell_type": "code",
   "execution_count": 101,
   "id": "4ab5e67a-d5ce-45d7-a83b-9e3b43c6f29c",
   "metadata": {},
   "outputs": [
    {
     "name": "stdout",
     "output_type": "stream",
     "text": [
      "28.82736547391715 [ 9.93613218e-05  3.54221891e-03 -5.01328015e-03  3.42992869e-04]\n"
     ]
    }
   ],
   "source": [
    "X_train_zero = prepare_X_zero(df_train)\n",
    "w_0_zero, w_zero = train_linear_regression(X_train_zero, y_train)\n",
    "print(w_0_zero,w_zero)\n",
    "y_pred_zero = w_0_zero + X_train_zero.dot(w_zero)"
   ]
  },
  {
   "cell_type": "code",
   "execution_count": 102,
   "id": "41b66390-1659-4dfb-8108-bafaeb3fd683",
   "metadata": {},
   "outputs": [
    {
     "name": "stdout",
     "output_type": "stream",
     "text": [
      "28.92525995164767 [ 0.00012093  0.01030308 -0.00501009 -0.00023463]\n"
     ]
    }
   ],
   "source": [
    "X_train_mean = prepare_X_mean(df_train)\n",
    "w_0_mean, w_mean = train_linear_regression(X_train_mean, y_train)\n",
    "print(w_0_mean,w_mean)\n",
    "y_pred_mean = w_0_mean + X_train_mean.dot(w_mean)"
   ]
  },
  {
   "cell_type": "code",
   "execution_count": 103,
   "id": "94958bd2-3e80-4308-ab79-ea29ce49142d",
   "metadata": {},
   "outputs": [],
   "source": [
    "def rmse(y, y_pred):\n",
    "    error = y_pred - y\n",
    "    mse = (error ** 2).mean()\n",
    "    return np.sqrt(mse)\n",
    "    "
   ]
  },
  {
   "cell_type": "code",
   "execution_count": 104,
   "id": "fc77d338-59f5-4cc7-a77c-2bb4b1228922",
   "metadata": {},
   "outputs": [
    {
     "name": "stdout",
     "output_type": "stream",
     "text": [
      "0.5202614265099076\n",
      "0.46244121379599645\n"
     ]
    }
   ],
   "source": [
    "print(rmse(y_train, y_pred_zero))\n",
    "print(rmse(y_train, y_pred_mean))"
   ]
  },
  {
   "cell_type": "code",
   "execution_count": 105,
   "id": "9e760f16-f7d9-4177-8c3e-930759d35be1",
   "metadata": {},
   "outputs": [
    {
     "name": "stdout",
     "output_type": "stream",
     "text": [
      "0.52\n",
      "0.46\n"
     ]
    }
   ],
   "source": [
    "X_val_zero = prepare_X_zero(df_val)\n",
    "X_val_mean = prepare_X_mean(df_val)\n",
    "y_pred_zero = w_0_zero + X_val_zero.dot(w_zero)\n",
    "y_pred_mean = w_0_mean + X_val_mean.dot(w_mean)\n",
    "print(round(rmse(y_val, y_pred_zero),2))\n",
    "print(round(rmse(y_val, y_pred_mean),2))"
   ]
  },
  {
   "cell_type": "code",
   "execution_count": 106,
   "id": "53da3a6f-75c1-41fd-b1cb-0cf14b871a09",
   "metadata": {},
   "outputs": [],
   "source": [
    "def train_linear_regression_reg(X, y, r=0.0):\n",
    "    ones = np.ones(X.shape[0])\n",
    "    X = np.column_stack([ones, X])\n",
    "\n",
    "    XTX = X.T.dot(X)\n",
    "    reg = r * np.eye(XTX.shape[0])\n",
    "    XTX = XTX + reg\n",
    "\n",
    "    XTX_inv = np.linalg.inv(XTX)\n",
    "    w = XTX_inv.dot(X.T).dot(y)\n",
    "    \n",
    "    return w[0], w[1:]"
   ]
  },
  {
   "cell_type": "code",
   "execution_count": 107,
   "id": "466aff61-9a33-4666-a914-2aa7837ae005",
   "metadata": {},
   "outputs": [],
   "source": [
    "X_train = prepare_X_zero(df_train)\n",
    "X_val = prepare_X_zero(df_val)"
   ]
  },
  {
   "cell_type": "code",
   "execution_count": 109,
   "id": "1a3c654b-115a-4662-b480-7be0660b4bc6",
   "metadata": {},
   "outputs": [
    {
     "name": "stdout",
     "output_type": "stream",
     "text": [
      "0.52\n",
      "0.52\n",
      "0.52\n",
      "0.52\n",
      "0.52\n",
      "0.52\n",
      "0.52\n"
     ]
    }
   ],
   "source": [
    "for r in [0, 0.01, 0.1, 1, 5, 10, 100]:\n",
    "    w_0, w = train_linear_regression_reg(X_train, y_train, r=r)\n",
    "    y_pred = w_0 + X_val.dot(w)\n",
    "    #print(rmse(y_val, y_pred))\n",
    "    print(round(rmse(y_val, y_pred),2))"
   ]
  },
  {
   "cell_type": "code",
   "execution_count": 110,
   "id": "862840cd-dbd9-4277-8c51-2aea3973bb10",
   "metadata": {},
   "outputs": [
    {
     "name": "stdout",
     "output_type": "stream",
     "text": [
      "0.5206531296308569\n",
      "0.5213388912864579\n",
      "0.5228069974770838\n",
      "0.5159516741085112\n",
      "0.5109129460067932\n",
      "0.528340646001329\n",
      "0.5313910658171428\n",
      "0.5090670387363528\n",
      "0.5147399129521133\n",
      "0.5131865908171102\n"
     ]
    }
   ],
   "source": [
    "RMSEs = np.zeros(10)\n",
    "for seed in [0, 1, 2, 3, 4, 5, 6, 7, 8, 9]:\n",
    "    np.random.seed(seed)\n",
    "    \n",
    "    idx = np.arange(n)\n",
    "    np.random.shuffle(idx)\n",
    "    \n",
    "    df_shuffled = df.iloc[idx]\n",
    "    \n",
    "    df_train = df_shuffled.iloc[:n_train].copy()\n",
    "    df_val = df_shuffled.iloc[n_train:n_train+n_val].copy()\n",
    "    df_test = df_shuffled.iloc[n_train+n_val:].copy()\n",
    "    \n",
    "    y_train = df_train.fuel_efficiency_mpg.values\n",
    "    y_val = df_val.fuel_efficiency_mpg.values\n",
    "    y_test = df_test.fuel_efficiency_mpg.values\n",
    "    \n",
    "    del df_train['fuel_efficiency_mpg']\n",
    "    del df_val['fuel_efficiency_mpg']\n",
    "    del df_test['fuel_efficiency_mpg']\n",
    "    \n",
    "    X_train = prepare_X_zero(df_train)\n",
    "    w_0, w = train_linear_regression(X_train, y_train)\n",
    "\n",
    "    X_val = prepare_X_zero(df_val)\n",
    "    y_pred = w_0 + X_val.dot(w)\n",
    "    RMSEs[seed] = rmse(y_val, y_pred)\n",
    "    print(rmse(y_val, y_pred))"
   ]
  },
  {
   "cell_type": "code",
   "execution_count": 111,
   "id": "f78afdc6-f291-458c-ac6c-7386e7d26ad8",
   "metadata": {},
   "outputs": [
    {
     "data": {
      "text/plain": [
       "np.float64(0.006989446426375709)"
      ]
     },
     "execution_count": 111,
     "metadata": {},
     "output_type": "execute_result"
    }
   ],
   "source": [
    "RMSEs.std()"
   ]
  },
  {
   "cell_type": "code",
   "execution_count": 112,
   "id": "14126d8a-19c7-42fb-8a1c-3a9ea1a870c1",
   "metadata": {},
   "outputs": [
    {
     "data": {
      "text/plain": [
       "np.float64(0.5156261299185867)"
      ]
     },
     "execution_count": 112,
     "metadata": {},
     "output_type": "execute_result"
    }
   ],
   "source": [
    "X_train = prepare_X_zero(df_train)\n",
    "X_val = prepare_X_zero(df_val)\n",
    "w_0, w = train_linear_regression_reg(np.concatenate((X_train,X_val),axis=0), \n",
    "                                     np.concatenate((y_train,y_val),axis=0), r=0.001)\n",
    "X_test = prepare_X_zero(df_test)\n",
    "y_pred = w_0 + X_test.dot(w)\n",
    "rmse(y_test, y_pred)"
   ]
  }
 ],
 "metadata": {
  "kernelspec": {
   "display_name": "Python 3 (ipykernel)",
   "language": "python",
   "name": "python3"
  },
  "language_info": {
   "codemirror_mode": {
    "name": "ipython",
    "version": 3
   },
   "file_extension": ".py",
   "mimetype": "text/x-python",
   "name": "python",
   "nbconvert_exporter": "python",
   "pygments_lexer": "ipython3",
   "version": "3.11.13"
  }
 },
 "nbformat": 4,
 "nbformat_minor": 5
}
