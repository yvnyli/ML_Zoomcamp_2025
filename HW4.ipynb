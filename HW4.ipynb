{
 "cells": [
  {
   "cell_type": "code",
   "execution_count": 1,
   "id": "ae9d651a-007a-4414-8603-edceeb5611c9",
   "metadata": {},
   "outputs": [],
   "source": [
    "import pandas as pd\n",
    "import numpy as np\n",
    "\n",
    "import seaborn as sns\n",
    "from matplotlib import pyplot as plt\n",
    "%matplotlib inline"
   ]
  },
  {
   "cell_type": "code",
   "execution_count": 2,
   "id": "69165b1f-3209-42fb-b51b-50f87acdf7fa",
   "metadata": {},
   "outputs": [],
   "source": [
    "from sklearn.model_selection import train_test_split\n",
    "from sklearn.feature_extraction import DictVectorizer\n",
    "from sklearn.linear_model import LogisticRegression"
   ]
  },
  {
   "cell_type": "code",
   "execution_count": 3,
   "id": "af47b612-867b-4971-a694-b56b0fef0036",
   "metadata": {},
   "outputs": [],
   "source": [
    "df = pd.read_csv('hw3_course_lead_scoring.csv')"
   ]
  },
  {
   "cell_type": "code",
   "execution_count": 4,
   "id": "7a9a006a-f29f-47e4-a84b-d15b192452b5",
   "metadata": {},
   "outputs": [
    {
     "data": {
      "text/plain": [
       "Index(['lead_source', 'industry', 'number_of_courses_viewed', 'annual_income',\n",
       "       'employment_status', 'location', 'interaction_count', 'lead_score',\n",
       "       'converted'],\n",
       "      dtype='object')"
      ]
     },
     "execution_count": 4,
     "metadata": {},
     "output_type": "execute_result"
    }
   ],
   "source": [
    "df.columns"
   ]
  },
  {
   "cell_type": "code",
   "execution_count": 5,
   "id": "06a2ac20-f167-4416-b058-62159750ca60",
   "metadata": {},
   "outputs": [
    {
     "data": {
      "text/plain": [
       "lead_source                 128\n",
       "industry                    134\n",
       "number_of_courses_viewed      0\n",
       "annual_income               181\n",
       "employment_status           100\n",
       "location                     63\n",
       "interaction_count             0\n",
       "lead_score                    0\n",
       "converted                     0\n",
       "dtype: int64"
      ]
     },
     "execution_count": 5,
     "metadata": {},
     "output_type": "execute_result"
    }
   ],
   "source": [
    "df.isnull().sum()"
   ]
  },
  {
   "cell_type": "code",
   "execution_count": 6,
   "id": "a56d5c7d-d9d7-478a-9722-234922f31662",
   "metadata": {},
   "outputs": [],
   "source": [
    "fillvs = {\"lead_source\":\"NA\", \"industry\":\"NA\", \"number_of_courses_viewed\":0.0, \"annual_income\":0.0, \n",
    "          \"employment_status\":\"NA\", \"location\":\"NA\", \"interaction_count\":0.0, \"lead_score\":0.0, \n",
    "          \"converted\":0.0}\n",
    "df = df.fillna(value=fillvs)"
   ]
  },
  {
   "cell_type": "code",
   "execution_count": 7,
   "id": "8d190619-bedf-4b94-9fd1-0489f8b46876",
   "metadata": {},
   "outputs": [
    {
     "data": {
      "text/plain": [
       "lead_source                 0\n",
       "industry                    0\n",
       "number_of_courses_viewed    0\n",
       "annual_income               0\n",
       "employment_status           0\n",
       "location                    0\n",
       "interaction_count           0\n",
       "lead_score                  0\n",
       "converted                   0\n",
       "dtype: int64"
      ]
     },
     "execution_count": 7,
     "metadata": {},
     "output_type": "execute_result"
    }
   ],
   "source": [
    "df.isnull().sum()"
   ]
  },
  {
   "cell_type": "code",
   "execution_count": 115,
   "id": "8b246c64-d7dc-4d22-a62b-8d71db8551d7",
   "metadata": {},
   "outputs": [],
   "source": [
    "df_train_full, df_test = train_test_split(df, test_size=0.2, random_state=1)\n",
    "df_train, df_val = train_test_split(df_train_full, test_size=0.25, random_state=1)"
   ]
  },
  {
   "cell_type": "code",
   "execution_count": 116,
   "id": "31895dfa-860c-4e32-8ac2-a19806019346",
   "metadata": {},
   "outputs": [],
   "source": [
    "y_train = df_train.converted.values\n",
    "y_val = df_val.converted.values\n",
    "y_test = df_test.converted.values"
   ]
  },
  {
   "cell_type": "code",
   "execution_count": 117,
   "id": "bbfa14ed-8dab-4e92-a522-9edecf7e07ab",
   "metadata": {},
   "outputs": [],
   "source": [
    "df_train = df_train.drop(columns=\"converted\")\n",
    "df_val = df_val.drop(columns=\"converted\")\n",
    "df_test = df_test.drop(columns=\"converted\")"
   ]
  },
  {
   "cell_type": "code",
   "execution_count": 12,
   "id": "1e91b4e8-60bb-4d3d-9d61-8a7aa701fe82",
   "metadata": {},
   "outputs": [],
   "source": [
    "from sklearn.metrics import roc_auc_score"
   ]
  },
  {
   "cell_type": "code",
   "execution_count": 23,
   "id": "572b111f-6ceb-45e9-8544-d1f2afd90958",
   "metadata": {},
   "outputs": [],
   "source": [
    "columns_cat = [\"lead_source\", \"industry\", \"employment_status\", \"location\"]\n",
    "columns_num = [\"number_of_courses_viewed\", \"annual_income\", \"interaction_count\", \"lead_score\"]"
   ]
  },
  {
   "cell_type": "code",
   "execution_count": 31,
   "id": "00eb8dda-08ff-4ea2-ba4d-fa2801c7d31c",
   "metadata": {},
   "outputs": [
    {
     "name": "stdout",
     "output_type": "stream",
     "text": [
      "number_of_courses_viewed: 0.76\n",
      "annual_income: 0.55\n",
      "interaction_count: 0.74\n",
      "lead_score: 0.61\n"
     ]
    }
   ],
   "source": [
    "for col in columns_num:\n",
    "#    print(roc_auc_score(y_train, df[col]))\n",
    "    print('%s: %.2f' % (col, roc_auc_score(y_train, df_train[col])))\n",
    "    "
   ]
  },
  {
   "cell_type": "code",
   "execution_count": 92,
   "id": "da41e2e3-1291-4f99-8be6-7d8432a1e731",
   "metadata": {},
   "outputs": [
    {
     "data": {
      "text/plain": [
       "0.647564950627936"
      ]
     },
     "execution_count": 92,
     "metadata": {},
     "output_type": "execute_result"
    }
   ],
   "source": [
    "dv = DictVectorizer(sparse=False)\n",
    "X_train = dv.fit_transform(df_train.to_dict(orient='records'))\n",
    "model = LogisticRegression(solver='liblinear', C=1.0, max_iter=1000, random_state=42)\n",
    "model.fit(X_train, y_train)\n",
    "X_val = dv.transform(df_val.to_dict(orient='records'))\n",
    "roc_auc_score(y_val,model.predict(X_val))"
   ]
  },
  {
   "cell_type": "code",
   "execution_count": 91,
   "id": "c6c16fa4-9c8b-4593-9067-c124c44a1d8f",
   "metadata": {},
   "outputs": [],
   "source": [
    "thresholds = np.linspace(0, 1, 101)"
   ]
  },
  {
   "cell_type": "code",
   "execution_count": 98,
   "id": "ff640746-41e6-4335-ade8-b6f5c9d2aec2",
   "metadata": {},
   "outputs": [],
   "source": [
    "from sklearn.metrics import precision_score\n",
    "from sklearn.metrics import recall_score\n",
    "from sklearn.metrics import f1_score"
   ]
  },
  {
   "cell_type": "code",
   "execution_count": 103,
   "id": "260e0b37-2993-447f-8e94-b1f0caf5852e",
   "metadata": {},
   "outputs": [],
   "source": [
    "precisions = np.zeros_like(thresholds)\n",
    "recalls = np.zeros_like(thresholds)\n",
    "f1s = np.zeros_like(thresholds)\n",
    "for idx in range(len(thresholds)):\n",
    "    y_pred_proba = model.predict_proba(X_val)[:, 1]\n",
    "    y_pred = y_pred_proba>=thresholds[idx]\n",
    "    precisions[idx] = precision_score(y_val, y_pred,zero_division=np.nan)\n",
    "    recalls[idx] = recall_score(y_val, y_pred)\n",
    "    f1s[idx] = f1_score(y_val, y_pred)\n",
    "    #y_pred_proba = model.predict_proba(X_train)[:, 1]\n",
    "    #y_pred = y_pred_proba>=thresholds[idx]\n",
    "    #precisions[idx] = precision_score(y_train, y_pred,zero_division=np.nan)\n",
    "    #recalls[idx] = recall_score(y_train, y_pred)\n",
    "    #f1s[idx] = f1_score(y_train, y_pred)"
   ]
  },
  {
   "cell_type": "code",
   "execution_count": 107,
   "id": "e0cd1d50-a890-4bb5-9d6d-2fbd8ddd5952",
   "metadata": {},
   "outputs": [
    {
     "data": {
      "image/png": "[encoded data removed]",
      "text/plain": [
       "<Figure size 600x400 with 1 Axes>"
      ]
     },
     "metadata": {},
     "output_type": "display_data"
    }
   ],
   "source": [
    "plt.figure(figsize=(6, 4))\n",
    "\n",
    "plt.plot(thresholds, precisions, color='blue')\n",
    "plt.plot(thresholds, recalls, color='green')\n",
    "plt.plot(thresholds, f1s, color='black')\n",
    "\n",
    "plt.xlabel('Thresholds')\n",
    "\n",
    "plt.legend(['precision', 'recall', 'f1'])\n",
    "\n",
    "plt.xticks(thresholds)\n",
    "\n",
    "plt.show()"
   ]
  },
  {
   "cell_type": "code",
   "execution_count": 105,
   "id": "ecaedf8b-6736-4a49-b68d-97947906548b",
   "metadata": {},
   "outputs": [
    {
     "data": {
      "text/plain": [
       "array([0.64])"
      ]
     },
     "execution_count": 105,
     "metadata": {},
     "output_type": "execute_result"
    }
   ],
   "source": [
    "thresholds[np.abs(recalls-precisions)==np.nanmin(np.abs(recalls-precisions))]"
   ]
  },
  {
   "cell_type": "code",
   "execution_count": 109,
   "id": "6d58beff-86b0-4fdb-a0f8-8271ed7cac0b",
   "metadata": {},
   "outputs": [
    {
     "data": {
      "text/plain": [
       "array([0.57])"
      ]
     },
     "execution_count": 109,
     "metadata": {},
     "output_type": "execute_result"
    }
   ],
   "source": [
    "thresholds[f1s==np.nanmax(f1s)]"
   ]
  },
  {
   "cell_type": "code",
   "execution_count": 110,
   "id": "f4342be0-c90d-4238-80c4-c77d1994f79d",
   "metadata": {},
   "outputs": [],
   "source": [
    "from sklearn.model_selection import KFold"
   ]
  },
  {
   "cell_type": "code",
   "execution_count": 111,
   "id": "420910b4-57ba-4680-96a9-52d2fd65be1c",
   "metadata": {},
   "outputs": [],
   "source": [
    "kf = KFold(n_splits=5, shuffle=True, random_state=1)"
   ]
  },
  {
   "cell_type": "code",
   "execution_count": 125,
   "id": "3600751e-ab72-47d7-bcfe-ab806eca5c49",
   "metadata": {},
   "outputs": [],
   "source": [
    "def train(df, y, C):\n",
    "    cat = df.to_dict(orient='records')\n",
    "    \n",
    "    dv = DictVectorizer(sparse=False)\n",
    "    dv.fit(cat)\n",
    "\n",
    "    X = dv.transform(cat)\n",
    "\n",
    "    model = LogisticRegression(solver='liblinear', C=C, max_iter=1000)\n",
    "    model.fit(X, y)\n",
    "\n",
    "    return dv, model\n",
    "\n",
    "\n",
    "def predict(df, dv, model):\n",
    "    cat = df.to_dict(orient='records')\n",
    "    \n",
    "    X = dv.transform(cat)\n",
    "\n",
    "    y_pred_proba = model.predict_proba(X)[:, 1]\n",
    "\n",
    "    return y_pred_proba"
   ]
  },
  {
   "cell_type": "code",
   "execution_count": 126,
   "id": "4ed0ac34-39ed-4a6b-a2e4-c16e4eaa89a3",
   "metadata": {},
   "outputs": [],
   "source": [
    "aucs = []\n",
    "\n",
    "for train_idx, val_idx in kf.split(df_train_full):\n",
    "    df_train = df_train_full.iloc[train_idx]\n",
    "    y_train = df_train.converted.values\n",
    "\n",
    "    df_val = df_train_full.iloc[val_idx]\n",
    "    y_val = df_val.converted.values\n",
    "\n",
    "    dv, model = train(df_train, y_train, 1.0)\n",
    "    y_pred_proba = predict(df_val, dv, model)\n",
    "\n",
    "    rocauc = roc_auc_score(y_val, y_pred_proba)\n",
    "    aucs.append(rocauc)"
   ]
  },
  {
   "cell_type": "code",
   "execution_count": 127,
   "id": "f31d636e-a88f-4475-a7b9-c4241efa846b",
   "metadata": {},
   "outputs": [
    {
     "data": {
      "text/plain": [
       "(np.float64(0.8757483690012243), np.float64(0.03177873210139216))"
      ]
     },
     "execution_count": 127,
     "metadata": {},
     "output_type": "execute_result"
    }
   ],
   "source": [
    "np.mean(aucs), np.std(aucs)"
   ]
  },
  {
   "cell_type": "code",
   "execution_count": 128,
   "id": "61f95a82-4c02-4797-9af0-87e1e839ca09",
   "metadata": {},
   "outputs": [
    {
     "data": {
      "text/plain": [
       "[0.8688304920717635,\n",
       " 0.9216514191883649,\n",
       " 0.8433810305731487,\n",
       " 0.8422322540473225,\n",
       " 0.9026466491255224]"
      ]
     },
     "execution_count": 128,
     "metadata": {},
     "output_type": "execute_result"
    }
   ],
   "source": [
    "aucs"
   ]
  },
  {
   "cell_type": "code",
   "execution_count": 129,
   "id": "6401a67b-1e65-4458-ba9e-fd14fd590d9d",
   "metadata": {},
   "outputs": [
    {
     "data": {
      "text/plain": [
       "0.0257787"
      ]
     },
     "execution_count": 129,
     "metadata": {},
     "output_type": "execute_result"
    }
   ],
   "source": [
    "0.0317787-0.006"
   ]
  },
  {
   "cell_type": "code",
   "execution_count": 130,
   "id": "7114e1c9-acbb-4916-8862-4fdb8d9f6298",
   "metadata": {},
   "outputs": [
    {
     "data": {
      "text/plain": [
       "-0.028221299999999998"
      ]
     },
     "execution_count": 130,
     "metadata": {},
     "output_type": "execute_result"
    }
   ],
   "source": [
    "0.0317787-0.06"
   ]
  },
  {
   "cell_type": "code",
   "execution_count": 136,
   "id": "a7b3379a-2fd0-4570-a7a1-1e283f2bfe81",
   "metadata": {},
   "outputs": [],
   "source": [
    "scores = np.zeros((5,3))\n",
    "aucs = np.zeros((5,3))\n",
    "Cs = [0.000001, 0.001, 1]\n",
    "for cidx in range(3):\n",
    "    fidx = 0\n",
    "    for train_idx, val_idx in kf.split(df_train_full):\n",
    "        df_train = df_train_full.iloc[train_idx]\n",
    "        y_train = df_train.converted.values\n",
    "    \n",
    "        df_val = df_train_full.iloc[val_idx]\n",
    "        y_val = df_val.converted.values\n",
    "    \n",
    "        dv, model = train(df_train, y_train, Cs[cidx])\n",
    "        y_pred_proba = predict(df_val, dv, model)\n",
    "\n",
    "        \n",
    "        aucs[fidx,cidx] = roc_auc_score(y_val, y_pred_proba)\n",
    "\n",
    "        cat_val = df_val.to_dict(orient='records')\n",
    "        X_val = dv.transform(cat_val)\n",
    "        scores[fidx,cidx] = model.score(X_val,y_val)\n",
    "        \n",
    "        fidx = fidx + 1"
   ]
  },
  {
   "cell_type": "code",
   "execution_count": 137,
   "id": "955fe70b-ab13-4beb-90e4-48fb631f1ab2",
   "metadata": {},
   "outputs": [
    {
     "data": {
      "text/plain": [
       "array([[0.56837607, 0.57264957, 0.76495726],\n",
       "       [0.62820513, 0.62820513, 0.81196581],\n",
       "       [0.62820513, 0.63675214, 0.78632479],\n",
       "       [0.62820513, 0.63247863, 0.78205128],\n",
       "       [0.60944206, 0.61802575, 0.82832618]])"
      ]
     },
     "execution_count": 137,
     "metadata": {},
     "output_type": "execute_result"
    }
   ],
   "source": [
    "scores"
   ]
  },
  {
   "cell_type": "code",
   "execution_count": 138,
   "id": "cc45f2fa-7433-4db3-91ab-25a19fb34b1a",
   "metadata": {},
   "outputs": [
    {
     "data": {
      "text/plain": [
       "array([0.6124867 , 0.61762224, 0.79472507])"
      ]
     },
     "execution_count": 138,
     "metadata": {},
     "output_type": "execute_result"
    }
   ],
   "source": [
    "scores.mean(axis=0)"
   ]
  },
  {
   "cell_type": "code",
   "execution_count": 139,
   "id": "c5d39559-14d5-42b6-95d5-daf406618ed5",
   "metadata": {},
   "outputs": [
    {
     "data": {
      "text/plain": [
       "array([[0.55773096, 0.91788878, 0.86883049],\n",
       "       [0.51982172, 0.94745484, 0.92165142],\n",
       "       [0.59042928, 0.89889749, 0.84338103],\n",
       "       [0.55923101, 0.92061021, 0.84223225],\n",
       "       [0.57723263, 0.94575143, 0.90264665]])"
      ]
     },
     "execution_count": 139,
     "metadata": {},
     "output_type": "execute_result"
    }
   ],
   "source": [
    "aucs"
   ]
  },
  {
   "cell_type": "code",
   "execution_count": 140,
   "id": "e34d3714-e8b5-41af-9459-71065f3d5b56",
   "metadata": {},
   "outputs": [
    {
     "data": {
      "text/plain": [
       "array([0.56088912, 0.92612055, 0.87574837])"
      ]
     },
     "execution_count": 140,
     "metadata": {},
     "output_type": "execute_result"
    }
   ],
   "source": [
    "aucs.mean(axis=0)"
   ]
  },
  {
   "cell_type": "code",
   "execution_count": null,
   "id": "9cc71a48-8222-47be-8292-83170dacf6b1",
   "metadata": {},
   "outputs": [],
   "source": []
  }
 ],
 "metadata": {
  "kernelspec": {
   "display_name": "Python [conda env:env-ml-zoomcamp-2025]",
   "language": "python",
   "name": "conda-env-env-ml-zoomcamp-2025-py"
  },
  "language_info": {
   "codemirror_mode": {
    "name": "ipython",
    "version": 3
   },
   "file_extension": ".py",
   "mimetype": "text/x-python",
   "name": "python",
   "nbconvert_exporter": "python",
   "pygments_lexer": "ipython3",
   "version": "3.11.13"
  }
 },
 "nbformat": 4,
 "nbformat_minor": 5
}
