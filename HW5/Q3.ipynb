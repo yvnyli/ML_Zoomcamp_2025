{
 "cells": [
  {
   "cell_type": "code",
   "execution_count": 1,
   "id": "fe73692e-ecb4-448c-ade3-958486052bfc",
   "metadata": {},
   "outputs": [],
   "source": [
    "import sklearn as sk"
   ]
  },
  {
   "cell_type": "code",
   "execution_count": 2,
   "id": "f09728ae-3cc7-45b5-93fd-a2363e9b4b59",
   "metadata": {},
   "outputs": [
    {
     "name": "stdout",
     "output_type": "stream",
     "text": [
      "\n",
      "System:\n",
      "    python: 3.13.5 | packaged by Anaconda, Inc. | (main, Jun 12 2025, 16:37:03) [MSC v.1929 64 bit (AMD64)]\n",
      "executable: C:\\Users\\yvnyl\\AppData\\Local\\uv\\cache\\builds-v0\\.tmpdJp9Wd\\Scripts\\python.exe\n",
      "   machine: Windows-11-10.0.26100-SP0\n",
      "\n",
      "Python dependencies:\n",
      "      sklearn: 1.6.1\n",
      "          pip: None\n",
      "   setuptools: 80.9.0\n",
      "        numpy: 2.3.4\n",
      "        scipy: 1.16.2\n",
      "       Cython: None\n",
      "       pandas: None\n",
      "   matplotlib: None\n",
      "       joblib: 1.5.2\n",
      "threadpoolctl: 3.6.0\n",
      "\n",
      "Built with OpenMP: True\n",
      "\n",
      "threadpoolctl info:\n",
      "       user_api: openmp\n",
      "   internal_api: openmp\n",
      "    num_threads: 16\n",
      "         prefix: vcomp\n",
      "       filepath: D:\\Github\\ML_Zoomcamp_2025\\HW5\\.venv\\Lib\\site-packages\\sklearn\\.libs\\vcomp140.dll\n",
      "        version: None\n",
      "\n",
      "       user_api: blas\n",
      "   internal_api: openblas\n",
      "    num_threads: 16\n",
      "         prefix: libscipy_openblas\n",
      "       filepath: D:\\Github\\ML_Zoomcamp_2025\\HW5\\.venv\\Lib\\site-packages\\numpy.libs\\libscipy_openblas64_-860d95b1c38e637ce4509f5fa24fbf2a.dll\n",
      "        version: 0.3.30\n",
      "threading_layer: pthreads\n",
      "   architecture: Haswell\n",
      "\n",
      "       user_api: blas\n",
      "   internal_api: openblas\n",
      "    num_threads: 16\n",
      "         prefix: libscipy_openblas\n",
      "       filepath: D:\\Github\\ML_Zoomcamp_2025\\HW5\\.venv\\Lib\\site-packages\\scipy.libs\\libscipy_openblas-48c358d105077551cc9cc3ba79387ed5.dll\n",
      "        version: 0.3.29.dev\n",
      "threading_layer: pthreads\n",
      "   architecture: Haswell\n"
     ]
    }
   ],
   "source": [
    "sk.show_versions()"
   ]
  },
  {
   "cell_type": "code",
   "execution_count": 3,
   "id": "0baffeb9-2034-4a81-9c9e-dbeefb8b97e0",
   "metadata": {},
   "outputs": [],
   "source": [
    "import pickle"
   ]
  },
  {
   "cell_type": "code",
   "execution_count": 4,
   "id": "e318e613-8aeb-4170-9210-d546dfd3a2ef",
   "metadata": {},
   "outputs": [],
   "source": [
    "with open('pipeline_v1.bin', 'rb') as f_in:\n",
    "    pipeline = pickle.load(f_in)"
   ]
  },
  {
   "cell_type": "code",
   "execution_count": 5,
   "id": "bc86ec64-e7f5-4bf0-884b-a32e2b0a452c",
   "metadata": {},
   "outputs": [],
   "source": [
    "datapoint = {\n",
    "    \"lead_source\": \"paid_ads\",\n",
    "    \"number_of_courses_viewed\": 2,\n",
    "    \"annual_income\": 79276.0\n",
    "}"
   ]
  },
  {
   "cell_type": "code",
   "execution_count": 6,
   "id": "c16bf63d-e752-46b1-a26c-bc5ab4000728",
   "metadata": {},
   "outputs": [
    {
     "data": {
      "text/plain": [
       "np.float64(0.5336072702798061)"
      ]
     },
     "execution_count": 6,
     "metadata": {},
     "output_type": "execute_result"
    }
   ],
   "source": [
    "pipeline.predict_proba(datapoint)[0, 1]"
   ]
  }
 ],
 "metadata": {
  "kernelspec": {
   "display_name": "Python 3 (ipykernel)",
   "language": "python",
   "name": "python3"
  },
  "language_info": {
   "codemirror_mode": {
    "name": "ipython",
    "version": 3
   },
   "file_extension": ".py",
   "mimetype": "text/x-python",
   "name": "python",
   "nbconvert_exporter": "python",
   "pygments_lexer": "ipython3",
   "version": "3.13.5"
  }
 },
 "nbformat": 4,
 "nbformat_minor": 5
}
